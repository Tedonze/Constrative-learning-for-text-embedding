{
 "cells": [
  {
   "cell_type": "code",
   "execution_count": 1,
   "metadata": {},
   "outputs": [],
   "source": [
    "import json\n",
    "import matplotlib.pyplot as plt"
   ]
  },
  {
   "cell_type": "markdown",
   "metadata": {},
   "source": [
    "## Read and understand data"
   ]
  },
  {
   "cell_type": "code",
   "execution_count": 2,
   "metadata": {},
   "outputs": [
    {
     "name": "stdout",
     "output_type": "stream",
     "text": [
      "{'query': 'What are the key advantages and applications of an implantable stimulator system that uses a passive magnetostrictive electroactive sensor for power harvesting in a non-vibration rich environment?,', 'negative': \"The present technology introduces an innovative apparatus for extracting energy from surrounding external sources and transforming it into a usable form of electrical power. Unlike traditional energy collectors, this apparatus does not integrate a native magnet or an analogous localized field source, relying rather on universal magnetic fields or an external field to operate the device. This novel design enables the creation of more compact and lighter energy-collecting devices, widening the spectrum of potential applications. It can operate independently of vibrational energy, utilizing different mechanisms such as orientation shifts in a static field or interaction with a changing external magnetic source. The energy collection device described consists of a sensing component that comprises a magnetic field responsive layer and an electroactive layer that synergistically operate to produce voltage when the magnetic environment alters. In this configuration, there are no references to states, administrative authorities, laws, or specific patented technologies. The applications of this apparatus span various fields, which include but aren't limited to powering wireless health monitoring systems, enabling supplementing power for inaccessible batteries, and facilitating security systems free from wiring constraints.\\n\\n\", 'pos': 'RELATED APPLICATIONS This application claims the benefit of priority to U.S. Provisional Application No. 60/791,004, filed Apr. 11, 2006, and is a continuation-in-part of U.S. application Ser. No. 11/652,272, filed Jan. 11, 2007, which claims the benefit of priority to U.S. Provisional Application No. 60/758,042, filed Jan. 11, 2006, and U.S. Provisional Application No. 60/790,921, filed Apr. 11, 2006, and is a continuation-in-part of U.S. application Ser. No. 10/730,355, filed Dec. 8, 2003, which claims the benefit of priority to U.S. Provisional Application No. 60/431,487, filed Dec. 9, 2002, the disclosures of which are incorporated herein by reference in their entirety. FIELD OF THE INVENTION This invention relates to apparatus and methods for harvesting energy from the environment and other sources external to the harvester and converting it to useful electrical energy. The present invention generally relates to implantable stimulator systems and methods, and more particularly relates to implantable stimulator systems and methods utilizing one or more implantable microstimulators for direct electrical current. Specifically outlined is the use of PME for the delivery of microstimulation through applied external magnetic field technology. The delivered therapy will be effective for continuous or temporary, as needed (PRN) therapeutic intervention. BACKGROUND OF THE INVENTION Energy harvesters are known that convert vibrational energy into electrical energy. The electrical energy produced can then be stored or used by other devices. For example, the vibrations of an air conditioning duct can be converted into electrical energy by an energy harvester and the electrical energy then used to power a sensor that measures the air temperature in the duct. The sensor does not require electrical wiring to a remote source of power or periodic battery changes. There are a variety of such devices for generating electrical power from vibrations, oscillations or other mechanical motions. Generally such devices are categorized as inductive, capacitive, and/or piezoelectric devices. While each of the known types of vibrational energy harvesters have different advantages, they also have drawbacks such as: the need for heavy, powerful permanent magnets (in the case of inductive energy harvesters) to produce a sufficiently large flux density; an auxiliary source of power, such as a battery (in the case of capacitive harvesters); the need for large vibration frequencies and/or a heavy inertial mass to generate sufficient vibrational energy for harvesting (for all types of vibration energy harvesters); undesirable levels of damping and noise generation from interaction between the locally generated magnetic field and nearby metallic parts (for inductive harvesters); and other disadvantages such as size or weight that make them unsuitable for use in a remote or generally inaccessible location. As shown in FIG. 1 , a typical magnetic device 2 to harvest vibrational energy consists of a permanent magnet 3 (an internal local field source) attached to a housing 7 and connected by a spring 4 to a passive magnetic field sensor 5 (e.g., an induction coil or a passive magnetostrictive/electroactive field sensor). External vibrations cause a relative motion of the magnet 3 and sensor 5 , producing an electrical voltage across a load 8 and a current through the load. In addition to requiring a local magnetic field source (e.g., a permanent magnet disposed adjacent to the field sensor), these devices also typically include an inertial mass 6 (also known as a proof mass) to increase the vibrational energy generated. The inertial mass may be rigidly attached to the sensor (as shown), may be the same or separate from the permanent magnet, or may comprise part of the sensor itself. As a further alternative, the magnet may comprise part of the moving proof mass, as opposed to being fixed to the housing. In each case, the inertial mass and the permanent magnet increase the size and weight of the device. It would be desirable to provide a magnetic energy harvester that does not require a local magnetic field source as part of the device itself. It would also be beneficial to provide a magnetic energy harvester that does not require a source of vibrational or other mechanical motion. SUMMARY OF THE INVENTION In accordance with various embodiments of the present invention, an apparatus is provided for harvesting energy from the environment or other remote sources and converting it to useful electrical energy. The harvester does not contain a permanent magnet or other local field source but instead relies on the earth&#39;s magnetic field or another source of a magnetic field that is external to the sensing device. One advantage of these new harvesters is that they can be made smaller and lighter than energy harvesters that contain a magnet. Another advantage is that they do not require vibrational energy to function. According to various embodiments of the invention disclosed herein, the harvester differs from those of the prior art by the absence of a permanent magnet or other local (internal) field source. In these new devices, a change in the state of magnetization of the sensing element may be achieved in one (or both) of two general ways: 1. The magnetic flux density in the sensing element may be altered by changes in the orientation of the sensor (movement of the sensor) with respect to a static (non-changing) external field. For example, the magnetization vector M of the sensing element may rotate due to changes in the orientation of the sensing element with respect to the earth&#39;s field. Such movement of the sensing element may be achieved by attaching the sensing element to a piece of rotating machinery or a rotating part on a vehicle. Alternatively, the sensing element may be suspended on its axis and allowed to rotate (due to external vibrations), the rotation causing a change in its orientation in the earth&#39;s field. 2. Alternatively, the sensing element may remain stationary and be operated on by a remote changing magnetic field from any of a variety of sources. The remote changing magnetic field can be produced by an electrical transformer, motor, electronic device, moving machinery or inductive wire or coil which is relatively remote (acting at a distance or through a non-magnetic barrier) on the sensing element. The changing (e.g., alternating) magnetic field source can be designed to couple with a remote sensing element efficiently in terms of frequency, distance, field orientation and magnitude to deliver power remotely to the sensing element. When operating from the earth&#39;s magnetic field, the power harvested may be less than that achieved with a prior art vibrational energy harvester having a built-in magnetic field. The power harvested from a remote field source will be measured in microwatts per centimeter cubed (μW/cm 3 ), as opposed to milliwatts per centimeter cubed (mW/cm 3 ) for energy harvesters that include a strong magnet. However, for certain applications the power delivered by such a small, lightweight and simple energy harvester will be sufficient and enable new applications. When operating near some man-made external sources of alternating magnetic fields, or when such an external field source is brought near to the energy harvester, the power harvested can be considerably greater because the strength of such fields is often considerably greater than the earth&#39;s magnetic field (H earth is approximately 0.3 Oe or 3 micro-Tesla). A preferred sensing element for use in the present invention is based on a class of passive magnetostrictive electroactive (PME) magnetic field sensors that produce a voltage when exposed to a changing magnetic field. The sensing element is preferably a layered structure (e.g., sandwich) of magnetostrictive material bonded to an electroactive material, the latter being poled in a direction preferably parallel to the plane of the magnetostrictive layer(s). An external magnetic field causes a magnetization change in the magnetostrictive layer(s), which respond(s) with a magnetoelastic stress. Part of the stress is transferred to the electroactive layer that responds by producing a voltage given by V i =g ij σ j L i. Here, L i is the distance between the electrodes across which the voltage V i is measured, σ j is the stress transferred to the electroactive component, and g ij is the stress-voltage coupling coefficient. The voltage is greatest when the direction i=j. However, in different applications the principal stress and induced voltage may lie in orthogonal directions (e.g., 1-3 operation), or the principal stress and voltage may act along different axes (e.g., 1-5 operation). The energy harvester of the present invention is more than a simple passive magnetostrictive/electroactive (PME) field sensor. A simple PME field sensor is comprised of materials and dimensions designed preferably to produce a large voltage across a high impedance circuit, the voltage being indicative of the field of interest. The electronic circuit for a simple PME sensor is designed to register a field value. In contrast, the PME energy harvester of the present invention is comprised of materials and dimensions designed preferably to produce a voltage and current that match the impedance of the load to be driven. The PME energy harvester is coupled to an electronic circuit that converts the PME output to power for immediate use or storage. The PME element is preferably optimized to respond to the field strength of the intended environment, which would generally be much greater than that of a pure field sensor. This new type of energy harvester can be simpler, lighter and/or more compact than those requiring a permanent magnet as a field source, and also those requiring an inertial mass for enhancing vibrational energy. For example, suitable applications may include wireless monitoring applications, wherein wireless monitoring is meant to include self powered sensing of local conditions and processing of the sensor output and self powered wireless communication to a central data processing point. Other suitable applications might include wireless transfer of electrical power over a small distance to a location inaccessible via electrical leads or not convenient for battery replacement. More specifically, these applications may include supplying power for: wireless health monitoring or condition based maintenance; supplementing power or recharging batteries without physically accessing them; elimination of wiring of electrical devices remote from a power source; wireless monitoring of temperature, airflow, humidity and gas content in heating, ventilation and air conditioning (HVAC) systems; wireless monitoring of traffic flow, turbulence, noise or personnel movement; wireless, self powered security systems; powering of mobile electronic instruments; passive detection of creep or crack propagation in structures for condition based maintenance; and powering of devices implanted in a living body (or to another inaccessible location) for purposes of sensing, transmitting, or actuating (e.g., motors, pumps, switches, valves, electrodes), as well as for accomplishing therapy or other functions that require a voltage and/or current. Furthermore, applications of the new energy harvester are not limited to vibration rich environments. A simple repetitive motion or rotation of the more sensitive PME devices as described herein allows them to operate from the earth&#39;s magnetic field. They can be placed in physically inaccessible locations and activated from a remote field source that is either present in the environment or placed there for the purpose of energizing the device. In one embodiment of the invention: an energy harvester without a local field source comprises: a magnetic field sensing element including one or more layers of magnetostrictive material having a magnetization vector that responds to variations in an applied magnetic field by generating a stress, and one or more layers of electroactive material, mechanically bonded to the layer of magnetostrictive material, that responds to the stress by generating a voltage; and a circuit coupled to the sensing element that converts the voltage to electrical power for immediate use or storage, wherein the sensing element either: a) moves relative to a remote static external magnetic field, such that changes in orientation of the sensing element with respect to the external field generates the voltage; or b) is stationary with respect to a remote changing external magnetic field, wherein the changing external field causes the sensing element to generate the voltage. In Various Embodiments the electrical power comprises a voltage and current suitable for an intended application; the magnetostrictive material layer has a magnetization vector that responds to variations in the magnetic field by rotating in a plane and wherein the electroactive material is poled in a direction substantially parallel to the plane in which the magnetization vector rotates; the sensing element is mounted to an object that moves relative to the applied magnetic field; the variations in the applied external field are in one or more of magnitude and direction of the field; the sensing element is mounted such that local vibration changes its orientation with respect to the applied magnetic field; the sensing element includes electrodes for measuring the voltage generated and wherein the electrodes are configured such that the distance between the electrodes and cross sectional area between the electrodes are tailored to produce a desired electrical power; the magnetization vector rotates relative to the electrode axis due to changes in the orientation of the sensor in the applied external field; local vibrations also change the orientation of the sensor with respect to the applied external field; the remote magnetic field is generated by one or more of an electrical transformer, motor, actuator, switch, electronic device, moving machinery or inductor; the inductor is a wire or coil through which an alternating current is flowing, to produce the remote changing external magnetic field; the sensing element is rigidly attached to an inertial mass; the sensing element includes an inertial mass; the changing external field or sensing element movement is at vibration or power transmission frequencies of no greater than 1 kHz; the changing external field is at a resonance frequency in the range of that of the sensing element; the changing external field is in a range of 20 to 50 kHz; the external field frequency is equal to or close to the resonance frequency of the sensor, which varies roughly according to the equation fr ≈ 1 2 \\u2062 L \\u2062 E eff ρ eff where L is a characteristic length of the sensor and E eff and ρ eff are the elastic modulus and mass density appropriate to describe the composite magnetostrictive/electroactive sensor properties; the changing external field and sensing element are within a resonant frequency range; the circuit is within the resonant frequency range; the external changing field is outside a human or other animal body and the sensing element is inside the body. In another embodiment of the invention, a method of harvesting energy comprises: providing a magnetic field sensing element including one or more layers of magnetostrictive material having a magnetization vector that responds to variations in an applied magnetic field by generating a stress, and one or more layers of an electroactive material, mechanically bonded to the layer of magnetostrictive material, that responds to the stress by generating a voltage; wherein the voltage is generated by either: moving the sensing element relative to a remote static external magnetic field, such that changes in orientation in the sensing element with respect to the external field generates the voltage; or the sensing element is stationary with respect to a remote changing external magnetic field, and the changing external field causes the sensing elemenet to generate the voltage; and converting the generated voltage to electrical power for immediate use or storage. The invention disclosed and claimed herein addresses the above and other needs and provides means and systems for acutely stimulating a nerve root(s), spinal nerve(s), organs, soft tissue, incision site or similar, with a miniature implantable neurostimulator(s) that can be implanted via a minimal surgical procedure and powered by an external magnetic field. This invention describes a means of delivering power wirelessly from outside the body to inside the body for the therapies described above. The means of wireless power delivery consists of a passive magnetostrictive/electro-active (PME) magnetic-field sensor as the main component of a small implantable device that will receive a changing magnetic field from an external alternating magnetic field source external to the body. This field source may be a hand-held device or a small antenna affixed to the wearer&#39;s skin, clothing or accessories. Alternatively, the external field may be generated by a source planted in a chair, desk, car seat or table that the recipient frequents. The AC magnetic field excites the implanted PME sensor, which generates a voltage and current that can be used to provide therapeutic relief by stimulating nerve. The therapeutic system can also be used to minimize tissue damage, reduce tumor size and burden, or stimulate bone or cartilage growth in the appropriate space. An AC magnetic field is a more efficient means of transmitting power than an AC electric field because of the greater attenuation of electric fields by body fluids. The proposed system would include an external source of alternating magnetic field close to the recipient or in a wearable device that is made up of a power source (line power, battery, rechargeable battery or energy harvester) and electronics to control the signal generated by the wearable antenna. The antenna is connected to the wearable device with a wire and affixed to the skin or cloth in the area of interest to perform two functions: First, the antenna transmits data to communicate with the implanted devices. Second, the antenna transmits a signal that is converted by the implanted PME sensor/harvester (part of the implanted device) into useful power for the entire implanted device. The implanted PME provides a tiny implant that may be millimeter scale in size that can be driven by an external magnetic field applied only on an as needed basis. For example, patients with migraine headaches can be treated with therapeutic electricity applied to the occipital nerve. The patient does not however express this headache chronically, rather the headache appears only on an intermittently acute basis. Therefore applying the magnetic field during the earliest (prodromal) period of the headache can prevent conversion to a migraine headache. This would be one therapeutic embodiment of the technology. Stimulation and control parameters of the implanted micro-stimulator are preferably adjusted to levels that are safe and efficacious with minimal patient discomfort. Different stimulation parameters generally have different effects on neural tissue, and parameters are thus chosen to target specific neural populations and to exclude others.'}\n"
     ]
    }
   ],
   "source": [
    "\n",
    "with open('data/dataset_big_patent_v1.json','r') as f:\n",
    "    data = json.load(f)\n",
    "\n",
    "## print sample\n",
    "print(data[0])\n",
    "    "
   ]
  },
  {
   "cell_type": "code",
   "execution_count": 9,
   "metadata": {},
   "outputs": [],
   "source": [
    "def word_count_statistic(key:str):\n",
    "    ## count the number of queries\n",
    "    num_sample = len(data)\n",
    "    print(\"Number of {}: {}\".format(key, num_sample))\n",
    "\n",
    "    # Quantitative analysis: Length of each query\n",
    "    lengths = [len(item[key].split()) for item in data]\n",
    "    average_count= sum(lengths) / num_sample\n",
    "    max_count = max(lengths)\n",
    "    print(\"Average number of words in {} : {}\".format(key ,average_count))\n",
    "    print(\"Max number of word in {} : {}\".format(key,max_count))\n",
    "    \n",
    "  \n",
    "    "
   ]
  },
  {
   "cell_type": "code",
   "execution_count": 10,
   "metadata": {},
   "outputs": [
    {
     "name": "stdout",
     "output_type": "stream",
     "text": [
      "Number of query: 499\n",
      "Average number of words in query : 18.100200400801604\n",
      "Max number of word in query : 33\n",
      "\n",
      "Number of pos: 499\n",
      "Average number of words in pos : 3004.835671342685\n",
      "Max number of word in pos : 3078\n",
      "\n",
      "Number of negative: 499\n",
      "Average number of words in negative : 267.5090180360721\n",
      "Max number of word in negative : 1707\n",
      "\n"
     ]
    }
   ],
   "source": [
    "key_words= ['query','pos','negative']\n",
    "for k in key_words:\n",
    "    word_count_statistic(k)\n",
    "    print('')\n"
   ]
  },
  {
   "cell_type": "code",
   "execution_count": 17,
   "metadata": {},
   "outputs": [
    {
     "name": "stdout",
     "output_type": "stream",
     "text": [
      "No duplicate\n"
     ]
    }
   ],
   "source": [
    "### Check duplicate query to avoid overfiting \n",
    "queries = [item['query'] for item in data]\n",
    "duplicate_queries = len(queries) - len(set(queries))\n",
    "if duplicate_queries== 0:\n",
    "    print(\"No duplicate\")\n",
    "\n"
   ]
  },
  {
   "cell_type": "code",
   "execution_count": 15,
   "metadata": {},
   "outputs": [
    {
     "name": "stdout",
     "output_type": "stream",
     "text": [
      "All items have 'query', 'pos', and 'negative' keys.\n"
     ]
    }
   ],
   "source": [
    "### check missing data\n",
    "# Check if all items have 'query', 'pos', and 'negative' keys\n",
    "all_keys_present = all(\n",
    "    'query' in item and 'pos' in item and 'negative' in item\n",
    "    for item in data\n",
    ")\n",
    "if all_keys_present:\n",
    "    print(\"All items have 'query', 'pos', and 'negative' keys.\")\n",
    "else:\n",
    "    print(\"Some items are missing 'query', 'pos', or 'negative' keys.\")"
   ]
  },
  {
   "cell_type": "code",
   "execution_count": 25,
   "metadata": {},
   "outputs": [
    {
     "data": {
      "text/plain": [
       "1"
      ]
     },
     "execution_count": 25,
     "metadata": {},
     "output_type": "execute_result"
    }
   ],
   "source": [
    "### Not a lot data for finetuning , risk of overfitting\n",
    "### Positive answer are more long than negative\n",
    "### Presence oh technical sign in the document like the chimique formular\n",
    "### A lot of fiversity in data\n",
    "### Data is about some prompt with a postive and negative answer. we want to learn the good embedding for LLM -RAg this will help model to retrieve the good context in Vector DB \n"
   ]
  },
  {
   "cell_type": "code",
   "execution_count": 23,
   "metadata": {},
   "outputs": [
    {
     "ename": "SyntaxError",
     "evalue": "invalid syntax (4277199671.py, line 1)",
     "output_type": "error",
     "traceback": [
      "\u001b[1;36m  Cell \u001b[1;32mIn[23], line 1\u001b[1;36m\u001b[0m\n\u001b[1;33m    conda config --set pip_interop_enabled True\u001b[0m\n\u001b[1;37m          ^\u001b[0m\n\u001b[1;31mSyntaxError\u001b[0m\u001b[1;31m:\u001b[0m invalid syntax\n"
     ]
    }
   ],
   "source": []
  },
  {
   "cell_type": "code",
   "execution_count": null,
   "metadata": {},
   "outputs": [],
   "source": []
  }
 ],
 "metadata": {
  "kernelspec": {
   "display_name": "Python 3",
   "language": "python",
   "name": "python3"
  },
  "language_info": {
   "codemirror_mode": {
    "name": "ipython",
    "version": 3
   },
   "file_extension": ".py",
   "mimetype": "text/x-python",
   "name": "python",
   "nbconvert_exporter": "python",
   "pygments_lexer": "ipython3",
   "version": "3.9.16"
  }
 },
 "nbformat": 4,
 "nbformat_minor": 2
}
